{
  "nbformat": 4,
  "nbformat_minor": 0,
  "metadata": {
    "colab": {
      "name": "Lab1.ipynb",
      "provenance": [],
      "collapsed_sections": [],
      "authorship_tag": "ABX9TyO8tESuF0ekN5GQkk63Ui0x",
      "include_colab_link": true
    },
    "kernelspec": {
      "name": "python3",
      "display_name": "Python 3"
    }
  },
  "cells": [
    {
      "cell_type": "markdown",
      "metadata": {
        "id": "view-in-github",
        "colab_type": "text"
      },
      "source": [
        "<a href=\"https://colab.research.google.com/github/Thiccpapadragon/Practice/blob/master/Lab1.ipynb\" target=\"_parent\"><img src=\"https://colab.research.google.com/assets/colab-badge.svg\" alt=\"Open In Colab\"/></a>"
      ]
    },
    {
      "cell_type": "markdown",
      "metadata": {
        "id": "iWgTZbMP-1cx",
        "colab_type": "text"
      },
      "source": [
        "# Do you like using Jupyter Notebooks?"
      ]
    },
    {
      "cell_type": "markdown",
      "metadata": {
        "id": "lVlc-FXL_JAp",
        "colab_type": "text"
      },
      "source": [
        "Jupiter Notebooks are alright. From what I've seen so far, I like how the coding language itself works."
      ]
    },
    {
      "cell_type": "markdown",
      "metadata": {
        "id": "SW3Cf1_J_nW2",
        "colab_type": "text"
      },
      "source": [
        "# What do you want to learn more about using Jupyter Notebooks?"
      ]
    },
    {
      "cell_type": "markdown",
      "metadata": {
        "id": "oewGpW-H_tiX",
        "colab_type": "text"
      },
      "source": [
        "I'm looking forward to learning more about the coding I can utilize through Jupyter Notebooks. However, I'm especially looking forward to learning if there are other ways that Jupyter Notebooks can interact with other websites like GitHub."
      ]
    },
    {
      "cell_type": "markdown",
      "metadata": {
        "id": "lZc8SFcZA991",
        "colab_type": "text"
      },
      "source": [
        "![doodle](https://raw.githubusercontent.com/Thiccpapadragon/Practice/master/Images/501st.png)"
      ]
    }
  ]
}